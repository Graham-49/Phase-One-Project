{
 "cells": [
  {
   "cell_type": "markdown",
   "id": "ef7fd444",
   "metadata": {},
   "source": [
    "**AVIATION RISK ASSESMENT:DATA DRIVEN RECOMMENDATIONS FOR AIRCRAFT PURCHASES**\n",
    "\n",
    "**AUTHOR:BEAUTTAH GRAHAM AKELLO**"
   ]
  },
  {
   "cell_type": "markdown",
   "id": "87751163",
   "metadata": {},
   "source": [
    "My project focuses on evaluating the risks associated with different aircraft makes and models as part of my company’s planned entry into the aviation industry. By leveraging aviation accident data from the NTSB covering the years 1962–2023, I will analyze historical accident patterns, identify recurring safety concerns, and compare how different aircraft types perform over time. The goal is to highlight which aircraft have consistently demonstrated strong safety records and reliability, and which ones carry higher risks. These insights will provide the company with a data-driven foundation for deciding which aircraft to purchase for both commercial and private operations, ensuring a safer and more strategic entry into this new market."
   ]
  },
  {
   "cell_type": "markdown",
   "id": "3a5cdfb7",
   "metadata": {},
   "source": [
    "**BUSINESS PROBLEM:**\n",
    "\n",
    "My company is expanding into the aviation sector but lacks understanding about the safety risks associated with different aircraft models for both commercial and private operations. The key business question is to determine which aircraft models present the lowest risk, based on historical accident data.\n",
    "\n",
    "Solving this problem will allow the company to make informed decisions in prioritizing low-risk aircraft purchases and strengthen its market entry strategy"
   ]
  },
  {
   "cell_type": "markdown",
   "id": "0d314686",
   "metadata": {},
   "source": [
    "**DATA UNDERSTANDING:**\n",
    "\n",
    "The dataset used in this project comes from the National Transportation Safety Board (NTSB) and contains information about civil aviation accidents and selected incidents from 1962 to 2023. The data includes accidents and incidents within the United States and in international waters.\n",
    "\n",
    "This data is directly relevant to the project's goal of assessing aviation risks, as it includes detailed information on past aviation accidents, including both the conditions and outcomes of accidents/incidents.\n",
    "Each record in the dataset represents a specific aviation accident or incident. It includes variables related to the event, covering the event information, aircraft details, injury details and operational deatils.\n",
    "Variable categories include:\n",
    "\n",
    "**Event information:** Event.Id, Accident.Number, Event.Date, Location, Latitude, Longitude.\n",
    "\n",
    "**Aircraft details:** Make, Model, Registration Number, Number of Engines, Engine Type, Aircraft.damage (e.g. Destroyed), Aircraft.Category, Amateur.Built (Yes/No) whether the aircraft was built by professionals or amateurs.\n",
    "\n",
    "**Injury details:** Injury.Severity (e.g. Fatal(2), Fatal(3) with the number of fatalities in brackets), Total.Fatal Injuries, Total.Serious Injuries, Total.Minor Injuries, Total.Uninjured.\n",
    "\n",
    "**Operational details:** Investigation.Type, Purpose.of.flight (e.g. Personal, Business), Broad.phase.of.flight (e.g. Cruise) - is the phase of flight when the accident occured, Report.Status (e.g. Probable Cause), Weather.Condition (i.e IMC - poor visibiliy conditions requiring flying priamrily by instruments, VMC - good visibility condtions, UNK-Unknown weather conditions during the accident )."
   ]
  },
  {
   "cell_type": "markdown",
   "id": "40ebbadd",
   "metadata": {},
   "source": [
    "**DATA INSPECTION**"
   ]
  },
  {
   "cell_type": "markdown",
   "id": "7de45ed7",
   "metadata": {},
   "source": [
    "I will be importing data science packages:"
   ]
  },
  {
   "cell_type": "code",
   "execution_count": 54,
   "id": "2ba8930c",
   "metadata": {},
   "outputs": [],
   "source": [
    "#import standard packages\n",
    "import pandas as pd\n",
    "import numpy as np\n",
    "import matplotlib.pyplot as plt\n",
    "import seaborn as sns\n",
    "\n",
    "%matplotlib inline"
   ]
  },
  {
   "cell_type": "code",
   "execution_count": 55,
   "id": "72d10535",
   "metadata": {},
   "outputs": [
    {
     "data": {
      "text/html": [
       "<div>\n",
       "<style scoped>\n",
       "    .dataframe tbody tr th:only-of-type {\n",
       "        vertical-align: middle;\n",
       "    }\n",
       "\n",
       "    .dataframe tbody tr th {\n",
       "        vertical-align: top;\n",
       "    }\n",
       "\n",
       "    .dataframe thead th {\n",
       "        text-align: right;\n",
       "    }\n",
       "</style>\n",
       "<table border=\"1\" class=\"dataframe\">\n",
       "  <thead>\n",
       "    <tr style=\"text-align: right;\">\n",
       "      <th></th>\n",
       "      <th>Event.Id</th>\n",
       "      <th>Investigation.Type</th>\n",
       "      <th>Accident.Number</th>\n",
       "      <th>Event.Date</th>\n",
       "      <th>Location</th>\n",
       "      <th>Country</th>\n",
       "      <th>Latitude</th>\n",
       "      <th>Longitude</th>\n",
       "      <th>Airport.Code</th>\n",
       "      <th>Airport.Name</th>\n",
       "      <th>...</th>\n",
       "      <th>Purpose.of.flight</th>\n",
       "      <th>Air.carrier</th>\n",
       "      <th>Total.Fatal.Injuries</th>\n",
       "      <th>Total.Serious.Injuries</th>\n",
       "      <th>Total.Minor.Injuries</th>\n",
       "      <th>Total.Uninjured</th>\n",
       "      <th>Weather.Condition</th>\n",
       "      <th>Broad.phase.of.flight</th>\n",
       "      <th>Report.Status</th>\n",
       "      <th>Publication.Date</th>\n",
       "    </tr>\n",
       "  </thead>\n",
       "  <tbody>\n",
       "    <tr>\n",
       "      <th>0</th>\n",
       "      <td>20001218X45444</td>\n",
       "      <td>Accident</td>\n",
       "      <td>SEA87LA080</td>\n",
       "      <td>1948-10-24</td>\n",
       "      <td>MOOSE CREEK, ID</td>\n",
       "      <td>United States</td>\n",
       "      <td>NaN</td>\n",
       "      <td>NaN</td>\n",
       "      <td>NaN</td>\n",
       "      <td>NaN</td>\n",
       "      <td>...</td>\n",
       "      <td>Personal</td>\n",
       "      <td>NaN</td>\n",
       "      <td>2.0</td>\n",
       "      <td>0.0</td>\n",
       "      <td>0.0</td>\n",
       "      <td>0.0</td>\n",
       "      <td>UNK</td>\n",
       "      <td>Cruise</td>\n",
       "      <td>Probable Cause</td>\n",
       "      <td>NaN</td>\n",
       "    </tr>\n",
       "    <tr>\n",
       "      <th>1</th>\n",
       "      <td>20001218X45447</td>\n",
       "      <td>Accident</td>\n",
       "      <td>LAX94LA336</td>\n",
       "      <td>1962-07-19</td>\n",
       "      <td>BRIDGEPORT, CA</td>\n",
       "      <td>United States</td>\n",
       "      <td>NaN</td>\n",
       "      <td>NaN</td>\n",
       "      <td>NaN</td>\n",
       "      <td>NaN</td>\n",
       "      <td>...</td>\n",
       "      <td>Personal</td>\n",
       "      <td>NaN</td>\n",
       "      <td>4.0</td>\n",
       "      <td>0.0</td>\n",
       "      <td>0.0</td>\n",
       "      <td>0.0</td>\n",
       "      <td>UNK</td>\n",
       "      <td>Unknown</td>\n",
       "      <td>Probable Cause</td>\n",
       "      <td>19-09-1996</td>\n",
       "    </tr>\n",
       "    <tr>\n",
       "      <th>2</th>\n",
       "      <td>20061025X01555</td>\n",
       "      <td>Accident</td>\n",
       "      <td>NYC07LA005</td>\n",
       "      <td>1974-08-30</td>\n",
       "      <td>Saltville, VA</td>\n",
       "      <td>United States</td>\n",
       "      <td>36.922223</td>\n",
       "      <td>-81.878056</td>\n",
       "      <td>NaN</td>\n",
       "      <td>NaN</td>\n",
       "      <td>...</td>\n",
       "      <td>Personal</td>\n",
       "      <td>NaN</td>\n",
       "      <td>3.0</td>\n",
       "      <td>NaN</td>\n",
       "      <td>NaN</td>\n",
       "      <td>NaN</td>\n",
       "      <td>IMC</td>\n",
       "      <td>Cruise</td>\n",
       "      <td>Probable Cause</td>\n",
       "      <td>26-02-2007</td>\n",
       "    </tr>\n",
       "    <tr>\n",
       "      <th>3</th>\n",
       "      <td>20001218X45448</td>\n",
       "      <td>Accident</td>\n",
       "      <td>LAX96LA321</td>\n",
       "      <td>1977-06-19</td>\n",
       "      <td>EUREKA, CA</td>\n",
       "      <td>United States</td>\n",
       "      <td>NaN</td>\n",
       "      <td>NaN</td>\n",
       "      <td>NaN</td>\n",
       "      <td>NaN</td>\n",
       "      <td>...</td>\n",
       "      <td>Personal</td>\n",
       "      <td>NaN</td>\n",
       "      <td>2.0</td>\n",
       "      <td>0.0</td>\n",
       "      <td>0.0</td>\n",
       "      <td>0.0</td>\n",
       "      <td>IMC</td>\n",
       "      <td>Cruise</td>\n",
       "      <td>Probable Cause</td>\n",
       "      <td>12-09-2000</td>\n",
       "    </tr>\n",
       "    <tr>\n",
       "      <th>4</th>\n",
       "      <td>20041105X01764</td>\n",
       "      <td>Accident</td>\n",
       "      <td>CHI79FA064</td>\n",
       "      <td>1979-08-02</td>\n",
       "      <td>Canton, OH</td>\n",
       "      <td>United States</td>\n",
       "      <td>NaN</td>\n",
       "      <td>NaN</td>\n",
       "      <td>NaN</td>\n",
       "      <td>NaN</td>\n",
       "      <td>...</td>\n",
       "      <td>Personal</td>\n",
       "      <td>NaN</td>\n",
       "      <td>1.0</td>\n",
       "      <td>2.0</td>\n",
       "      <td>NaN</td>\n",
       "      <td>0.0</td>\n",
       "      <td>VMC</td>\n",
       "      <td>Approach</td>\n",
       "      <td>Probable Cause</td>\n",
       "      <td>16-04-1980</td>\n",
       "    </tr>\n",
       "  </tbody>\n",
       "</table>\n",
       "<p>5 rows × 31 columns</p>\n",
       "</div>"
      ],
      "text/plain": [
       "         Event.Id Investigation.Type Accident.Number  Event.Date  \\\n",
       "0  20001218X45444           Accident      SEA87LA080  1948-10-24   \n",
       "1  20001218X45447           Accident      LAX94LA336  1962-07-19   \n",
       "2  20061025X01555           Accident      NYC07LA005  1974-08-30   \n",
       "3  20001218X45448           Accident      LAX96LA321  1977-06-19   \n",
       "4  20041105X01764           Accident      CHI79FA064  1979-08-02   \n",
       "\n",
       "          Location        Country   Latitude   Longitude Airport.Code  \\\n",
       "0  MOOSE CREEK, ID  United States        NaN         NaN          NaN   \n",
       "1   BRIDGEPORT, CA  United States        NaN         NaN          NaN   \n",
       "2    Saltville, VA  United States  36.922223  -81.878056          NaN   \n",
       "3       EUREKA, CA  United States        NaN         NaN          NaN   \n",
       "4       Canton, OH  United States        NaN         NaN          NaN   \n",
       "\n",
       "  Airport.Name  ... Purpose.of.flight Air.carrier Total.Fatal.Injuries  \\\n",
       "0          NaN  ...          Personal         NaN                  2.0   \n",
       "1          NaN  ...          Personal         NaN                  4.0   \n",
       "2          NaN  ...          Personal         NaN                  3.0   \n",
       "3          NaN  ...          Personal         NaN                  2.0   \n",
       "4          NaN  ...          Personal         NaN                  1.0   \n",
       "\n",
       "  Total.Serious.Injuries Total.Minor.Injuries Total.Uninjured  \\\n",
       "0                    0.0                  0.0             0.0   \n",
       "1                    0.0                  0.0             0.0   \n",
       "2                    NaN                  NaN             NaN   \n",
       "3                    0.0                  0.0             0.0   \n",
       "4                    2.0                  NaN             0.0   \n",
       "\n",
       "  Weather.Condition  Broad.phase.of.flight   Report.Status Publication.Date  \n",
       "0               UNK                 Cruise  Probable Cause              NaN  \n",
       "1               UNK                Unknown  Probable Cause       19-09-1996  \n",
       "2               IMC                 Cruise  Probable Cause       26-02-2007  \n",
       "3               IMC                 Cruise  Probable Cause       12-09-2000  \n",
       "4               VMC               Approach  Probable Cause       16-04-1980  \n",
       "\n",
       "[5 rows x 31 columns]"
      ]
     },
     "execution_count": 55,
     "metadata": {},
     "output_type": "execute_result"
    }
   ],
   "source": [
    "#Loading of dataset into a dataframe\n",
    "df = pd.read_csv(\"AviationData.csv\" ,encoding=\"latin-1\", low_memory=False)\n",
    "df.head()"
   ]
  },
  {
   "cell_type": "code",
   "execution_count": 56,
   "id": "08eb182a",
   "metadata": {},
   "outputs": [
    {
     "data": {
      "text/html": [
       "<div>\n",
       "<style scoped>\n",
       "    .dataframe tbody tr th:only-of-type {\n",
       "        vertical-align: middle;\n",
       "    }\n",
       "\n",
       "    .dataframe tbody tr th {\n",
       "        vertical-align: top;\n",
       "    }\n",
       "\n",
       "    .dataframe thead th {\n",
       "        text-align: right;\n",
       "    }\n",
       "</style>\n",
       "<table border=\"1\" class=\"dataframe\">\n",
       "  <thead>\n",
       "    <tr style=\"text-align: right;\">\n",
       "      <th></th>\n",
       "      <th>Event.Id</th>\n",
       "      <th>Investigation.Type</th>\n",
       "      <th>Accident.Number</th>\n",
       "      <th>Event.Date</th>\n",
       "      <th>Location</th>\n",
       "      <th>Country</th>\n",
       "      <th>Latitude</th>\n",
       "      <th>Longitude</th>\n",
       "      <th>Airport.Code</th>\n",
       "      <th>Airport.Name</th>\n",
       "      <th>...</th>\n",
       "      <th>Purpose.of.flight</th>\n",
       "      <th>Air.carrier</th>\n",
       "      <th>Total.Fatal.Injuries</th>\n",
       "      <th>Total.Serious.Injuries</th>\n",
       "      <th>Total.Minor.Injuries</th>\n",
       "      <th>Total.Uninjured</th>\n",
       "      <th>Weather.Condition</th>\n",
       "      <th>Broad.phase.of.flight</th>\n",
       "      <th>Report.Status</th>\n",
       "      <th>Publication.Date</th>\n",
       "    </tr>\n",
       "  </thead>\n",
       "  <tbody>\n",
       "    <tr>\n",
       "      <th>88884</th>\n",
       "      <td>20221227106491</td>\n",
       "      <td>Accident</td>\n",
       "      <td>ERA23LA093</td>\n",
       "      <td>2022-12-26</td>\n",
       "      <td>Annapolis, MD</td>\n",
       "      <td>United States</td>\n",
       "      <td>NaN</td>\n",
       "      <td>NaN</td>\n",
       "      <td>NaN</td>\n",
       "      <td>NaN</td>\n",
       "      <td>...</td>\n",
       "      <td>Personal</td>\n",
       "      <td>NaN</td>\n",
       "      <td>0.0</td>\n",
       "      <td>1.0</td>\n",
       "      <td>0.0</td>\n",
       "      <td>0.0</td>\n",
       "      <td>NaN</td>\n",
       "      <td>NaN</td>\n",
       "      <td>NaN</td>\n",
       "      <td>29-12-2022</td>\n",
       "    </tr>\n",
       "    <tr>\n",
       "      <th>88885</th>\n",
       "      <td>20221227106494</td>\n",
       "      <td>Accident</td>\n",
       "      <td>ERA23LA095</td>\n",
       "      <td>2022-12-26</td>\n",
       "      <td>Hampton, NH</td>\n",
       "      <td>United States</td>\n",
       "      <td>NaN</td>\n",
       "      <td>NaN</td>\n",
       "      <td>NaN</td>\n",
       "      <td>NaN</td>\n",
       "      <td>...</td>\n",
       "      <td>NaN</td>\n",
       "      <td>NaN</td>\n",
       "      <td>0.0</td>\n",
       "      <td>0.0</td>\n",
       "      <td>0.0</td>\n",
       "      <td>0.0</td>\n",
       "      <td>NaN</td>\n",
       "      <td>NaN</td>\n",
       "      <td>NaN</td>\n",
       "      <td>NaN</td>\n",
       "    </tr>\n",
       "    <tr>\n",
       "      <th>88886</th>\n",
       "      <td>20221227106497</td>\n",
       "      <td>Accident</td>\n",
       "      <td>WPR23LA075</td>\n",
       "      <td>2022-12-26</td>\n",
       "      <td>Payson, AZ</td>\n",
       "      <td>United States</td>\n",
       "      <td>341525N</td>\n",
       "      <td>1112021W</td>\n",
       "      <td>PAN</td>\n",
       "      <td>PAYSON</td>\n",
       "      <td>...</td>\n",
       "      <td>Personal</td>\n",
       "      <td>NaN</td>\n",
       "      <td>0.0</td>\n",
       "      <td>0.0</td>\n",
       "      <td>0.0</td>\n",
       "      <td>1.0</td>\n",
       "      <td>VMC</td>\n",
       "      <td>NaN</td>\n",
       "      <td>NaN</td>\n",
       "      <td>27-12-2022</td>\n",
       "    </tr>\n",
       "    <tr>\n",
       "      <th>88887</th>\n",
       "      <td>20221227106498</td>\n",
       "      <td>Accident</td>\n",
       "      <td>WPR23LA076</td>\n",
       "      <td>2022-12-26</td>\n",
       "      <td>Morgan, UT</td>\n",
       "      <td>United States</td>\n",
       "      <td>NaN</td>\n",
       "      <td>NaN</td>\n",
       "      <td>NaN</td>\n",
       "      <td>NaN</td>\n",
       "      <td>...</td>\n",
       "      <td>Personal</td>\n",
       "      <td>MC CESSNA 210N LLC</td>\n",
       "      <td>0.0</td>\n",
       "      <td>0.0</td>\n",
       "      <td>0.0</td>\n",
       "      <td>0.0</td>\n",
       "      <td>NaN</td>\n",
       "      <td>NaN</td>\n",
       "      <td>NaN</td>\n",
       "      <td>NaN</td>\n",
       "    </tr>\n",
       "    <tr>\n",
       "      <th>88888</th>\n",
       "      <td>20221230106513</td>\n",
       "      <td>Accident</td>\n",
       "      <td>ERA23LA097</td>\n",
       "      <td>2022-12-29</td>\n",
       "      <td>Athens, GA</td>\n",
       "      <td>United States</td>\n",
       "      <td>NaN</td>\n",
       "      <td>NaN</td>\n",
       "      <td>NaN</td>\n",
       "      <td>NaN</td>\n",
       "      <td>...</td>\n",
       "      <td>Personal</td>\n",
       "      <td>NaN</td>\n",
       "      <td>0.0</td>\n",
       "      <td>1.0</td>\n",
       "      <td>0.0</td>\n",
       "      <td>1.0</td>\n",
       "      <td>NaN</td>\n",
       "      <td>NaN</td>\n",
       "      <td>NaN</td>\n",
       "      <td>30-12-2022</td>\n",
       "    </tr>\n",
       "  </tbody>\n",
       "</table>\n",
       "<p>5 rows × 31 columns</p>\n",
       "</div>"
      ],
      "text/plain": [
       "             Event.Id Investigation.Type Accident.Number  Event.Date  \\\n",
       "88884  20221227106491           Accident      ERA23LA093  2022-12-26   \n",
       "88885  20221227106494           Accident      ERA23LA095  2022-12-26   \n",
       "88886  20221227106497           Accident      WPR23LA075  2022-12-26   \n",
       "88887  20221227106498           Accident      WPR23LA076  2022-12-26   \n",
       "88888  20221230106513           Accident      ERA23LA097  2022-12-29   \n",
       "\n",
       "            Location        Country Latitude Longitude Airport.Code  \\\n",
       "88884  Annapolis, MD  United States      NaN       NaN          NaN   \n",
       "88885    Hampton, NH  United States      NaN       NaN          NaN   \n",
       "88886     Payson, AZ  United States  341525N  1112021W          PAN   \n",
       "88887     Morgan, UT  United States      NaN       NaN          NaN   \n",
       "88888     Athens, GA  United States      NaN       NaN          NaN   \n",
       "\n",
       "      Airport.Name  ... Purpose.of.flight         Air.carrier  \\\n",
       "88884          NaN  ...          Personal                 NaN   \n",
       "88885          NaN  ...               NaN                 NaN   \n",
       "88886       PAYSON  ...          Personal                 NaN   \n",
       "88887          NaN  ...          Personal  MC CESSNA 210N LLC   \n",
       "88888          NaN  ...          Personal                 NaN   \n",
       "\n",
       "      Total.Fatal.Injuries Total.Serious.Injuries Total.Minor.Injuries  \\\n",
       "88884                  0.0                    1.0                  0.0   \n",
       "88885                  0.0                    0.0                  0.0   \n",
       "88886                  0.0                    0.0                  0.0   \n",
       "88887                  0.0                    0.0                  0.0   \n",
       "88888                  0.0                    1.0                  0.0   \n",
       "\n",
       "      Total.Uninjured Weather.Condition  Broad.phase.of.flight Report.Status  \\\n",
       "88884             0.0               NaN                    NaN           NaN   \n",
       "88885             0.0               NaN                    NaN           NaN   \n",
       "88886             1.0               VMC                    NaN           NaN   \n",
       "88887             0.0               NaN                    NaN           NaN   \n",
       "88888             1.0               NaN                    NaN           NaN   \n",
       "\n",
       "      Publication.Date  \n",
       "88884       29-12-2022  \n",
       "88885              NaN  \n",
       "88886       27-12-2022  \n",
       "88887              NaN  \n",
       "88888       30-12-2022  \n",
       "\n",
       "[5 rows x 31 columns]"
      ]
     },
     "execution_count": 56,
     "metadata": {},
     "output_type": "execute_result"
    }
   ],
   "source": [
    "df.tail()"
   ]
  },
  {
   "cell_type": "code",
   "execution_count": 57,
   "id": "19bb3bfa",
   "metadata": {},
   "outputs": [
    {
     "data": {
      "text/plain": [
       "(88889, 31)"
      ]
     },
     "execution_count": 57,
     "metadata": {},
     "output_type": "execute_result"
    }
   ],
   "source": [
    "df.shape"
   ]
  },
  {
   "cell_type": "code",
   "execution_count": 58,
   "id": "6da2dd87",
   "metadata": {},
   "outputs": [
    {
     "name": "stdout",
     "output_type": "stream",
     "text": [
      "<class 'pandas.core.frame.DataFrame'>\n",
      "RangeIndex: 88889 entries, 0 to 88888\n",
      "Data columns (total 31 columns):\n",
      " #   Column                  Non-Null Count  Dtype  \n",
      "---  ------                  --------------  -----  \n",
      " 0   Event.Id                88889 non-null  object \n",
      " 1   Investigation.Type      88889 non-null  object \n",
      " 2   Accident.Number         88889 non-null  object \n",
      " 3   Event.Date              88889 non-null  object \n",
      " 4   Location                88837 non-null  object \n",
      " 5   Country                 88663 non-null  object \n",
      " 6   Latitude                34382 non-null  object \n",
      " 7   Longitude               34373 non-null  object \n",
      " 8   Airport.Code            50249 non-null  object \n",
      " 9   Airport.Name            52790 non-null  object \n",
      " 10  Injury.Severity         87889 non-null  object \n",
      " 11  Aircraft.damage         85695 non-null  object \n",
      " 12  Aircraft.Category       32287 non-null  object \n",
      " 13  Registration.Number     87572 non-null  object \n",
      " 14  Make                    88826 non-null  object \n",
      " 15  Model                   88797 non-null  object \n",
      " 16  Amateur.Built           88787 non-null  object \n",
      " 17  Number.of.Engines       82805 non-null  float64\n",
      " 18  Engine.Type             81812 non-null  object \n",
      " 19  FAR.Description         32023 non-null  object \n",
      " 20  Schedule                12582 non-null  object \n",
      " 21  Purpose.of.flight       82697 non-null  object \n",
      " 22  Air.carrier             16648 non-null  object \n",
      " 23  Total.Fatal.Injuries    77488 non-null  float64\n",
      " 24  Total.Serious.Injuries  76379 non-null  float64\n",
      " 25  Total.Minor.Injuries    76956 non-null  float64\n",
      " 26  Total.Uninjured         82977 non-null  float64\n",
      " 27  Weather.Condition       84397 non-null  object \n",
      " 28  Broad.phase.of.flight   61724 non-null  object \n",
      " 29  Report.Status           82508 non-null  object \n",
      " 30  Publication.Date        75118 non-null  object \n",
      "dtypes: float64(5), object(26)\n",
      "memory usage: 21.0+ MB\n"
     ]
    }
   ],
   "source": [
    "df.info()"
   ]
  },
  {
   "cell_type": "code",
   "execution_count": 59,
   "id": "cf708efb",
   "metadata": {},
   "outputs": [
    {
     "data": {
      "text/plain": [
       "Event.Id                      0\n",
       "Investigation.Type            0\n",
       "Accident.Number               0\n",
       "Event.Date                    0\n",
       "Location                     52\n",
       "Country                     226\n",
       "Latitude                  54507\n",
       "Longitude                 54516\n",
       "Airport.Code              38640\n",
       "Airport.Name              36099\n",
       "Injury.Severity            1000\n",
       "Aircraft.damage            3194\n",
       "Aircraft.Category         56602\n",
       "Registration.Number        1317\n",
       "Make                         63\n",
       "Model                        92\n",
       "Amateur.Built               102\n",
       "Number.of.Engines          6084\n",
       "Engine.Type                7077\n",
       "FAR.Description           56866\n",
       "Schedule                  76307\n",
       "Purpose.of.flight          6192\n",
       "Air.carrier               72241\n",
       "Total.Fatal.Injuries      11401\n",
       "Total.Serious.Injuries    12510\n",
       "Total.Minor.Injuries      11933\n",
       "Total.Uninjured            5912\n",
       "Weather.Condition          4492\n",
       "Broad.phase.of.flight     27165\n",
       "Report.Status              6381\n",
       "Publication.Date          13771\n",
       "dtype: int64"
      ]
     },
     "execution_count": 59,
     "metadata": {},
     "output_type": "execute_result"
    }
   ],
   "source": [
    "df.isna().sum() # Checking for missing values"
   ]
  },
  {
   "cell_type": "code",
   "execution_count": 60,
   "id": "f8af15c3",
   "metadata": {},
   "outputs": [
    {
     "data": {
      "text/plain": [
       "False    88889\n",
       "dtype: int64"
      ]
     },
     "execution_count": 60,
     "metadata": {},
     "output_type": "execute_result"
    }
   ],
   "source": [
    "df.duplicated().value_counts()  #checking on duplicates"
   ]
  },
  {
   "cell_type": "markdown",
   "id": "1d93d59d",
   "metadata": {},
   "source": [
    "**DATA PREPARATION(CLEANING)**"
   ]
  },
  {
   "cell_type": "markdown",
   "id": "638829d5",
   "metadata": {},
   "source": [
    "From the inspection carried out  we can clearly see that  we have some missing values (NaN) and dupplicated rows\n",
    "Now on this segment lets try  to clean this dataset so that we can carry analysis  and visualize it  so that we can draw insights from them "
   ]
  },
  {
   "cell_type": "markdown",
   "id": "26cec70e",
   "metadata": {},
   "source": [
    "Identifying and handling missing values."
   ]
  },
  {
   "cell_type": "code",
   "execution_count": 61,
   "id": "27107679",
   "metadata": {},
   "outputs": [
    {
     "data": {
      "text/plain": [
       "Event.Id                      0\n",
       "Investigation.Type            0\n",
       "Accident.Number               0\n",
       "Event.Date                    0\n",
       "Location                     52\n",
       "Country                     226\n",
       "Latitude                  54507\n",
       "Longitude                 54516\n",
       "Airport.Code              38640\n",
       "Airport.Name              36099\n",
       "Injury.Severity            1000\n",
       "Aircraft.damage            3194\n",
       "Aircraft.Category         56602\n",
       "Registration.Number        1317\n",
       "Make                         63\n",
       "Model                        92\n",
       "Amateur.Built               102\n",
       "Number.of.Engines          6084\n",
       "Engine.Type                7077\n",
       "FAR.Description           56866\n",
       "Schedule                  76307\n",
       "Purpose.of.flight          6192\n",
       "Air.carrier               72241\n",
       "Total.Fatal.Injuries      11401\n",
       "Total.Serious.Injuries    12510\n",
       "Total.Minor.Injuries      11933\n",
       "Total.Uninjured            5912\n",
       "Weather.Condition          4492\n",
       "Broad.phase.of.flight     27165\n",
       "Report.Status              6381\n",
       "Publication.Date          13771\n",
       "dtype: int64"
      ]
     },
     "execution_count": 61,
     "metadata": {},
     "output_type": "execute_result"
    }
   ],
   "source": [
    "# Lets look at the missing values again\n",
    "df.isna().sum()"
   ]
  },
  {
   "cell_type": "code",
   "execution_count": 62,
   "id": "d3fad2b2",
   "metadata": {},
   "outputs": [
    {
     "data": {
      "text/plain": [
       "Index(['Event.Id', 'Investigation.Type', 'Accident.Number', 'Event.Date',\n",
       "       'Location', 'Country', 'Latitude', 'Longitude', 'Airport.Code',\n",
       "       'Airport.Name', 'Injury.Severity', 'Aircraft.damage',\n",
       "       'Aircraft.Category', 'Registration.Number', 'Make', 'Model',\n",
       "       'Amateur.Built', 'Number.of.Engines', 'Engine.Type', 'FAR.Description',\n",
       "       'Schedule', 'Purpose.of.flight', 'Air.carrier', 'Total.Fatal.Injuries',\n",
       "       'Total.Serious.Injuries', 'Total.Minor.Injuries', 'Total.Uninjured',\n",
       "       'Weather.Condition', 'Broad.phase.of.flight', 'Report.Status',\n",
       "       'Publication.Date'],\n",
       "      dtype='object')"
      ]
     },
     "execution_count": 62,
     "metadata": {},
     "output_type": "execute_result"
    }
   ],
   "source": [
    "df.columns\n"
   ]
  },
  {
   "cell_type": "code",
   "execution_count": 63,
   "id": "ff06600f",
   "metadata": {},
   "outputs": [
    {
     "data": {
      "text/plain": [
       "Event.Id                   0.000000\n",
       "Investigation.Type         0.000000\n",
       "Accident.Number            0.000000\n",
       "Event.Date                 0.000000\n",
       "Location                   0.058500\n",
       "Country                    0.254250\n",
       "Latitude                  61.320298\n",
       "Longitude                 61.330423\n",
       "Airport.Code              43.469946\n",
       "Airport.Name              40.611324\n",
       "Injury.Severity            1.124999\n",
       "Aircraft.damage            3.593246\n",
       "Aircraft.Category         63.677170\n",
       "Registration.Number        1.481623\n",
       "Make                       0.070875\n",
       "Model                      0.103500\n",
       "Amateur.Built              0.114750\n",
       "Number.of.Engines          6.844491\n",
       "Engine.Type                7.961615\n",
       "FAR.Description           63.974170\n",
       "Schedule                  85.845268\n",
       "Purpose.of.flight          6.965991\n",
       "Air.carrier               81.271023\n",
       "Total.Fatal.Injuries      12.826109\n",
       "Total.Serious.Injuries    14.073732\n",
       "Total.Minor.Injuries      13.424608\n",
       "Total.Uninjured            6.650992\n",
       "Weather.Condition          5.053494\n",
       "Broad.phase.of.flight     30.560587\n",
       "Report.Status              7.178616\n",
       "Publication.Date          15.492356\n",
       "dtype: float64"
      ]
     },
     "execution_count": 63,
     "metadata": {},
     "output_type": "execute_result"
    }
   ],
   "source": [
    "a = df.shape\n",
    "\n",
    "nan_percent = (df.isna().sum() / a[0])*100 # total percent of missing values per column\n",
    "nan_percent"
   ]
  },
  {
   "cell_type": "code",
   "execution_count": 64,
   "id": "619d860c",
   "metadata": {},
   "outputs": [
    {
     "data": {
      "text/plain": [
       "Schedule                  85.845268\n",
       "Air.carrier               81.271023\n",
       "FAR.Description           63.974170\n",
       "Aircraft.Category         63.677170\n",
       "Longitude                 61.330423\n",
       "Latitude                  61.320298\n",
       "Airport.Code              43.469946\n",
       "Airport.Name              40.611324\n",
       "Broad.phase.of.flight     30.560587\n",
       "Publication.Date          15.492356\n",
       "Total.Serious.Injuries    14.073732\n",
       "Total.Minor.Injuries      13.424608\n",
       "Total.Fatal.Injuries      12.826109\n",
       "Engine.Type                7.961615\n",
       "Report.Status              7.178616\n",
       "Purpose.of.flight          6.965991\n",
       "Number.of.Engines          6.844491\n",
       "Total.Uninjured            6.650992\n",
       "Weather.Condition          5.053494\n",
       "Aircraft.damage            3.593246\n",
       "Registration.Number        1.481623\n",
       "Injury.Severity            1.124999\n",
       "Country                    0.254250\n",
       "Amateur.Built              0.114750\n",
       "Model                      0.103500\n",
       "Make                       0.070875\n",
       "Location                   0.058500\n",
       "Investigation.Type         0.000000\n",
       "Event.Date                 0.000000\n",
       "Accident.Number            0.000000\n",
       "Event.Id                   0.000000\n",
       "dtype: float64"
      ]
     },
     "execution_count": 64,
     "metadata": {},
     "output_type": "execute_result"
    }
   ],
   "source": [
    "nan_percent.sort_values(ascending=False) # Basically the .sort_values() to sort the percentages from largest to smallest"
   ]
  },
  {
   "cell_type": "markdown",
   "id": "d1c2c5a6",
   "metadata": {},
   "source": [
    "**Schedule** and **Air.carrier** columns have the highest percentages at 85% and 81% respectively.\n",
    "\n",
    "Let's have a look at some of the records that have values in those respective columns."
   ]
  },
  {
   "cell_type": "code",
   "execution_count": 65,
   "id": "629f3cbf",
   "metadata": {},
   "outputs": [
    {
     "data": {
      "text/html": [
       "<div>\n",
       "<style scoped>\n",
       "    .dataframe tbody tr th:only-of-type {\n",
       "        vertical-align: middle;\n",
       "    }\n",
       "\n",
       "    .dataframe tbody tr th {\n",
       "        vertical-align: top;\n",
       "    }\n",
       "\n",
       "    .dataframe thead th {\n",
       "        text-align: right;\n",
       "    }\n",
       "</style>\n",
       "<table border=\"1\" class=\"dataframe\">\n",
       "  <thead>\n",
       "    <tr style=\"text-align: right;\">\n",
       "      <th></th>\n",
       "      <th>Schedule</th>\n",
       "    </tr>\n",
       "  </thead>\n",
       "  <tbody>\n",
       "    <tr>\n",
       "      <th>5</th>\n",
       "      <td>SCHD</td>\n",
       "    </tr>\n",
       "    <tr>\n",
       "      <th>22</th>\n",
       "      <td>NSCH</td>\n",
       "    </tr>\n",
       "    <tr>\n",
       "      <th>33</th>\n",
       "      <td>NSCH</td>\n",
       "    </tr>\n",
       "    <tr>\n",
       "      <th>39</th>\n",
       "      <td>SCHD</td>\n",
       "    </tr>\n",
       "    <tr>\n",
       "      <th>43</th>\n",
       "      <td>NSCH</td>\n",
       "    </tr>\n",
       "    <tr>\n",
       "      <th>...</th>\n",
       "      <td>...</td>\n",
       "    </tr>\n",
       "    <tr>\n",
       "      <th>88866</th>\n",
       "      <td>NSCH</td>\n",
       "    </tr>\n",
       "    <tr>\n",
       "      <th>88867</th>\n",
       "      <td>NSCH</td>\n",
       "    </tr>\n",
       "    <tr>\n",
       "      <th>88876</th>\n",
       "      <td>SCHD</td>\n",
       "    </tr>\n",
       "    <tr>\n",
       "      <th>88879</th>\n",
       "      <td>SCHD</td>\n",
       "    </tr>\n",
       "    <tr>\n",
       "      <th>88881</th>\n",
       "      <td>NSCH</td>\n",
       "    </tr>\n",
       "  </tbody>\n",
       "</table>\n",
       "<p>12582 rows × 1 columns</p>\n",
       "</div>"
      ],
      "text/plain": [
       "      Schedule\n",
       "5         SCHD\n",
       "22        NSCH\n",
       "33        NSCH\n",
       "39        SCHD\n",
       "43        NSCH\n",
       "...        ...\n",
       "88866     NSCH\n",
       "88867     NSCH\n",
       "88876     SCHD\n",
       "88879     SCHD\n",
       "88881     NSCH\n",
       "\n",
       "[12582 rows x 1 columns]"
      ]
     },
     "execution_count": 65,
     "metadata": {},
     "output_type": "execute_result"
    }
   ],
   "source": [
    "  #show rows that do not have missing values\n",
    "df.loc[df['Schedule'].notna(),[\"Schedule\"]] "
   ]
  },
  {
   "cell_type": "code",
   "execution_count": 66,
   "id": "373ae838",
   "metadata": {},
   "outputs": [
    {
     "data": {
      "text/html": [
       "<div>\n",
       "<style scoped>\n",
       "    .dataframe tbody tr th:only-of-type {\n",
       "        vertical-align: middle;\n",
       "    }\n",
       "\n",
       "    .dataframe tbody tr th {\n",
       "        vertical-align: top;\n",
       "    }\n",
       "\n",
       "    .dataframe thead th {\n",
       "        text-align: right;\n",
       "    }\n",
       "</style>\n",
       "<table border=\"1\" class=\"dataframe\">\n",
       "  <thead>\n",
       "    <tr style=\"text-align: right;\">\n",
       "      <th></th>\n",
       "      <th>Air.carrier</th>\n",
       "    </tr>\n",
       "  </thead>\n",
       "  <tbody>\n",
       "    <tr>\n",
       "      <th>5</th>\n",
       "      <td>Air Canada</td>\n",
       "    </tr>\n",
       "    <tr>\n",
       "      <th>22</th>\n",
       "      <td>Rocky Mountain Helicopters, In</td>\n",
       "    </tr>\n",
       "    <tr>\n",
       "      <th>33</th>\n",
       "      <td>Lang Air Service</td>\n",
       "    </tr>\n",
       "    <tr>\n",
       "      <th>39</th>\n",
       "      <td>Empire Airlines</td>\n",
       "    </tr>\n",
       "    <tr>\n",
       "      <th>43</th>\n",
       "      <td>Joel Frederick's Monarch Air</td>\n",
       "    </tr>\n",
       "    <tr>\n",
       "      <th>...</th>\n",
       "      <td>...</td>\n",
       "    </tr>\n",
       "    <tr>\n",
       "      <th>88877</th>\n",
       "      <td>GERBER RICHARD E</td>\n",
       "    </tr>\n",
       "    <tr>\n",
       "      <th>88879</th>\n",
       "      <td>HAWAIIAN AIRLINES INC</td>\n",
       "    </tr>\n",
       "    <tr>\n",
       "      <th>88880</th>\n",
       "      <td>Chandler Air Service</td>\n",
       "    </tr>\n",
       "    <tr>\n",
       "      <th>88881</th>\n",
       "      <td>Pilot</td>\n",
       "    </tr>\n",
       "    <tr>\n",
       "      <th>88887</th>\n",
       "      <td>MC CESSNA 210N LLC</td>\n",
       "    </tr>\n",
       "  </tbody>\n",
       "</table>\n",
       "<p>16648 rows × 1 columns</p>\n",
       "</div>"
      ],
      "text/plain": [
       "                          Air.carrier\n",
       "5                          Air Canada\n",
       "22     Rocky Mountain Helicopters, In\n",
       "33                   Lang Air Service\n",
       "39                    Empire Airlines\n",
       "43       Joel Frederick's Monarch Air\n",
       "...                               ...\n",
       "88877                GERBER RICHARD E\n",
       "88879           HAWAIIAN AIRLINES INC\n",
       "88880            Chandler Air Service\n",
       "88881                           Pilot\n",
       "88887              MC CESSNA 210N LLC\n",
       "\n",
       "[16648 rows x 1 columns]"
      ]
     },
     "execution_count": 66,
     "metadata": {},
     "output_type": "execute_result"
    }
   ],
   "source": [
    "#show rows that do not have missing values\n",
    "df.loc[df[\"Air.carrier\"].notna(),[\"Air.carrier\"]]"
   ]
  },
  {
   "cell_type": "markdown",
   "id": "a1cb55d8",
   "metadata": {},
   "source": [
    "Judging from  this information we can see that this information  is largely unncessary since we are pushing our own aircraft and the schedules also if dropped they wont be necessary.\n",
    "Futhermore, they are largely  having NaN values  so its pretty had working with them."
   ]
  },
  {
   "cell_type": "code",
   "execution_count": 67,
   "id": "ce336908",
   "metadata": {},
   "outputs": [
    {
     "data": {
      "text/plain": [
       "Index(['Event.Id', 'Investigation.Type', 'Accident.Number', 'Event.Date',\n",
       "       'Location', 'Country', 'Latitude', 'Longitude', 'Airport.Code',\n",
       "       'Airport.Name', 'Injury.Severity', 'Aircraft.damage',\n",
       "       'Aircraft.Category', 'Registration.Number', 'Make', 'Model',\n",
       "       'Amateur.Built', 'Number.of.Engines', 'Engine.Type', 'FAR.Description',\n",
       "       'Purpose.of.flight', 'Total.Fatal.Injuries', 'Total.Serious.Injuries',\n",
       "       'Total.Minor.Injuries', 'Total.Uninjured', 'Weather.Condition',\n",
       "       'Broad.phase.of.flight', 'Report.Status', 'Publication.Date'],\n",
       "      dtype='object')"
      ]
     },
     "execution_count": 67,
     "metadata": {},
     "output_type": "execute_result"
    }
   ],
   "source": [
    "df.drop([\"Air.carrier\",\"Schedule\"], axis=1,inplace=True)\n",
    "df.columns"
   ]
  },
  {
   "cell_type": "code",
   "execution_count": 68,
   "id": "b7dfc317",
   "metadata": {},
   "outputs": [
    {
     "data": {
      "text/plain": [
       "(88889, 29)"
      ]
     },
     "execution_count": 68,
     "metadata": {},
     "output_type": "execute_result"
    }
   ],
   "source": [
    "df.shape"
   ]
  },
  {
   "cell_type": "code",
   "execution_count": 69,
   "id": "d611ea62",
   "metadata": {},
   "outputs": [
    {
     "data": {
      "text/plain": [
       "Schedule                  85.845268\n",
       "Air.carrier               81.271023\n",
       "FAR.Description           63.974170\n",
       "Aircraft.Category         63.677170\n",
       "Longitude                 61.330423\n",
       "Latitude                  61.320298\n",
       "Airport.Code              43.469946\n",
       "Airport.Name              40.611324\n",
       "Broad.phase.of.flight     30.560587\n",
       "Publication.Date          15.492356\n",
       "Total.Serious.Injuries    14.073732\n",
       "Total.Minor.Injuries      13.424608\n",
       "Total.Fatal.Injuries      12.826109\n",
       "Engine.Type                7.961615\n",
       "Report.Status              7.178616\n",
       "Purpose.of.flight          6.965991\n",
       "Number.of.Engines          6.844491\n",
       "Total.Uninjured            6.650992\n",
       "Weather.Condition          5.053494\n",
       "Aircraft.damage            3.593246\n",
       "Registration.Number        1.481623\n",
       "Injury.Severity            1.124999\n",
       "Country                    0.254250\n",
       "Amateur.Built              0.114750\n",
       "Model                      0.103500\n",
       "Make                       0.070875\n",
       "Location                   0.058500\n",
       "Investigation.Type         0.000000\n",
       "Event.Date                 0.000000\n",
       "Accident.Number            0.000000\n",
       "Event.Id                   0.000000\n",
       "dtype: float64"
      ]
     },
     "execution_count": 69,
     "metadata": {},
     "output_type": "execute_result"
    }
   ],
   "source": [
    "nan_percent.sort_values(ascending=False)"
   ]
  },
  {
   "cell_type": "markdown",
   "id": "f2cf6a85",
   "metadata": {},
   "source": [
    "Lets now look into the **Aircraft.Category** column and try to gain insights"
   ]
  },
  {
   "cell_type": "code",
   "execution_count": 70,
   "id": "cd9cd71b",
   "metadata": {},
   "outputs": [
    {
     "data": {
      "text/plain": [
       "Airplane             27617\n",
       "Helicopter            3440\n",
       "Glider                 508\n",
       "Balloon                231\n",
       "Gyrocraft              173\n",
       "Weight-Shift           161\n",
       "Powered Parachute       91\n",
       "Ultralight              30\n",
       "Unknown                 14\n",
       "WSFT                     9\n",
       "Powered-Lift             5\n",
       "Blimp                    4\n",
       "UNK                      2\n",
       "Rocket                   1\n",
       "ULTR                     1\n",
       "Name: Aircraft.Category, dtype: int64"
      ]
     },
     "execution_count": 70,
     "metadata": {},
     "output_type": "execute_result"
    }
   ],
   "source": [
    "df[\"Aircraft.Category\"].value_counts() # Trying to understand the frequencies in this case "
   ]
  },
  {
   "cell_type": "markdown",
   "id": "2fef4e74",
   "metadata": {},
   "source": [
    "I think the Aircraft Category is very very much important on this segment so we will impute the missing values with \" Airplane\""
   ]
  },
  {
   "cell_type": "code",
   "execution_count": 71,
   "id": "74b1534f",
   "metadata": {},
   "outputs": [],
   "source": [
    "df[\"Aircraft.Category\"] .fillna(\"Airplane\" , inplace=True)"
   ]
  },
  {
   "cell_type": "code",
   "execution_count": 72,
   "id": "dc81ae0f",
   "metadata": {},
   "outputs": [
    {
     "data": {
      "text/plain": [
       "Event.Id                      0\n",
       "Investigation.Type            0\n",
       "Accident.Number               0\n",
       "Event.Date                    0\n",
       "Location                     52\n",
       "Country                     226\n",
       "Latitude                  54507\n",
       "Longitude                 54516\n",
       "Airport.Code              38640\n",
       "Airport.Name              36099\n",
       "Injury.Severity            1000\n",
       "Aircraft.damage            3194\n",
       "Aircraft.Category             0\n",
       "Registration.Number        1317\n",
       "Make                         63\n",
       "Model                        92\n",
       "Amateur.Built               102\n",
       "Number.of.Engines          6084\n",
       "Engine.Type                7077\n",
       "FAR.Description           56866\n",
       "Purpose.of.flight          6192\n",
       "Total.Fatal.Injuries      11401\n",
       "Total.Serious.Injuries    12510\n",
       "Total.Minor.Injuries      11933\n",
       "Total.Uninjured            5912\n",
       "Weather.Condition          4492\n",
       "Broad.phase.of.flight     27165\n",
       "Report.Status              6381\n",
       "Publication.Date          13771\n",
       "dtype: int64"
      ]
     },
     "execution_count": 72,
     "metadata": {},
     "output_type": "execute_result"
    }
   ],
   "source": [
    "df.isna().sum()"
   ]
  },
  {
   "cell_type": "markdown",
   "id": "ee47a19e",
   "metadata": {},
   "source": [
    "Now lets also  look at **FAR.Description** "
   ]
  },
  {
   "cell_type": "code",
   "execution_count": 73,
   "id": "74642f05",
   "metadata": {},
   "outputs": [
    {
     "data": {
      "text/plain": [
       "091                               18221\n",
       "Part 91: General Aviation          6486\n",
       "NUSN                               1584\n",
       "NUSC                               1013\n",
       "137                                1010\n",
       "135                                 746\n",
       "121                                 679\n",
       "Part 137: Agricultural              437\n",
       "UNK                                 371\n",
       "Part 135: Air Taxi & Commuter       298\n",
       "PUBU                                253\n",
       "129                                 246\n",
       "Part 121: Air Carrier               165\n",
       "133                                 107\n",
       "Part 129: Foreign                   100\n",
       "Non-U.S., Non-Commercial             97\n",
       "Non-U.S., Commercial                 93\n",
       "Part 133: Rotorcraft Ext. Load       32\n",
       "Unknown                              22\n",
       "Public Use                           19\n",
       "091K                                 14\n",
       "ARMF                                  8\n",
       "Part 125: 20+ Pax,6000+ lbs           5\n",
       "125                                   5\n",
       "107                                   4\n",
       "Public Aircraft                       2\n",
       "103                                   2\n",
       "Part 91 Subpart K: Fractional         1\n",
       "Armed Forces                          1\n",
       "Part 91F: Special Flt Ops.            1\n",
       "437                                   1\n",
       "Name: FAR.Description, dtype: int64"
      ]
     },
     "execution_count": 73,
     "metadata": {},
     "output_type": "execute_result"
    }
   ],
   "source": [
    "df[\"FAR.Description\"] .value_counts()"
   ]
  },
  {
   "cell_type": "markdown",
   "id": "9bde9bdf",
   "metadata": {},
   "source": [
    "**FAR description** isnt that necessary in my case. I think the **Purpose of Flight** will serve a greater purpose in our analysis. "
   ]
  },
  {
   "cell_type": "code",
   "execution_count": 74,
   "id": "41e0b254",
   "metadata": {},
   "outputs": [],
   "source": [
    "df.drop(\"FAR.Description\" , axis=1 ,inplace=True)\n"
   ]
  },
  {
   "cell_type": "code",
   "execution_count": 75,
   "id": "ef17af45",
   "metadata": {},
   "outputs": [
    {
     "data": {
      "text/plain": [
       "Event.Id                   0.000000\n",
       "Investigation.Type         0.000000\n",
       "Accident.Number            0.000000\n",
       "Event.Date                 0.000000\n",
       "Location                   0.058500\n",
       "Country                    0.254250\n",
       "Latitude                  61.320298\n",
       "Longitude                 61.330423\n",
       "Airport.Code              43.469946\n",
       "Airport.Name              40.611324\n",
       "Injury.Severity            1.124999\n",
       "Aircraft.damage            3.593246\n",
       "Aircraft.Category          0.000000\n",
       "Registration.Number        1.481623\n",
       "Make                       0.070875\n",
       "Model                      0.103500\n",
       "Amateur.Built              0.114750\n",
       "Number.of.Engines          6.844491\n",
       "Engine.Type                7.961615\n",
       "Purpose.of.flight          6.965991\n",
       "Total.Fatal.Injuries      12.826109\n",
       "Total.Serious.Injuries    14.073732\n",
       "Total.Minor.Injuries      13.424608\n",
       "Total.Uninjured            6.650992\n",
       "Weather.Condition          5.053494\n",
       "Broad.phase.of.flight     30.560587\n",
       "Report.Status              7.178616\n",
       "Publication.Date          15.492356\n",
       "dtype: float64"
      ]
     },
     "execution_count": 75,
     "metadata": {},
     "output_type": "execute_result"
    }
   ],
   "source": [
    "nan2_percent=(df.isna().sum())/ a[0]*100\n",
    "nan2_percent"
   ]
  },
  {
   "cell_type": "markdown",
   "id": "149b4ae6",
   "metadata": {},
   "source": [
    "Now lets look at the **Broad.phase.of.flight** column"
   ]
  },
  {
   "cell_type": "code",
   "execution_count": 76,
   "id": "b7b707c5",
   "metadata": {},
   "outputs": [
    {
     "data": {
      "text/plain": [
       "Landing        15428\n",
       "Takeoff        12493\n",
       "Cruise         10269\n",
       "Maneuvering     8144\n",
       "Approach        6546\n",
       "Climb           2034\n",
       "Taxi            1958\n",
       "Descent         1887\n",
       "Go-around       1353\n",
       "Standing         945\n",
       "Unknown          548\n",
       "Other            119\n",
       "Name: Broad.phase.of.flight, dtype: int64"
      ]
     },
     "execution_count": 76,
     "metadata": {},
     "output_type": "execute_result"
    }
   ],
   "source": [
    "df[\"Broad.phase.of.flight\"].value_counts()"
   ]
  },
  {
   "cell_type": "markdown",
   "id": "5e4e0d42",
   "metadata": {},
   "source": [
    "This one is very important to help us understand where exactly planes tends to have accidents and where it is safe. So lets try  and keep it and impute the missing values with probably lets say **Landing**"
   ]
  },
  {
   "cell_type": "code",
   "execution_count": 77,
   "id": "79fbb0b8",
   "metadata": {},
   "outputs": [],
   "source": [
    "df[\"Broad.phase.of.flight\"].fillna(\"Landing\" , inplace=True)"
   ]
  },
  {
   "cell_type": "code",
   "execution_count": 78,
   "id": "a5fa913c",
   "metadata": {},
   "outputs": [
    {
     "data": {
      "text/plain": [
       "Event.Id                   0.000000\n",
       "Investigation.Type         0.000000\n",
       "Accident.Number            0.000000\n",
       "Event.Date                 0.000000\n",
       "Location                   0.058500\n",
       "Country                    0.254250\n",
       "Latitude                  61.320298\n",
       "Longitude                 61.330423\n",
       "Airport.Code              43.469946\n",
       "Airport.Name              40.611324\n",
       "Injury.Severity            1.124999\n",
       "Aircraft.damage            3.593246\n",
       "Aircraft.Category          0.000000\n",
       "Registration.Number        1.481623\n",
       "Make                       0.070875\n",
       "Model                      0.103500\n",
       "Amateur.Built              0.114750\n",
       "Number.of.Engines          6.844491\n",
       "Engine.Type                7.961615\n",
       "Purpose.of.flight          6.965991\n",
       "Total.Fatal.Injuries      12.826109\n",
       "Total.Serious.Injuries    14.073732\n",
       "Total.Minor.Injuries      13.424608\n",
       "Total.Uninjured            6.650992\n",
       "Weather.Condition          5.053494\n",
       "Broad.phase.of.flight      0.000000\n",
       "Report.Status              7.178616\n",
       "Publication.Date          15.492356\n",
       "dtype: float64"
      ]
     },
     "execution_count": 78,
     "metadata": {},
     "output_type": "execute_result"
    }
   ],
   "source": [
    "nan3_percent = (df.isna().sum()) / a[0]*100\n",
    "nan3_percent"
   ]
  },
  {
   "cell_type": "markdown",
   "id": "803883fc",
   "metadata": {},
   "source": [
    "For Latitude and Longitude columns, the geographical location of accidents may not provide insights as to which aircraft types are safest or most risky to operate and purchase.\n",
    "\n",
    "The Publication.Date as well does not serve a purpose here since these reports can be published years after the accident.\n",
    "\n",
    "Airport.Code is also not useful in this study and neither is Airport.Name. Aiport details will not provide relevant details.\n",
    "\n",
    "These columns do not add much value to the study so I'll drop them."
   ]
  },
  {
   "cell_type": "code",
   "execution_count": 79,
   "id": "3e1189ce",
   "metadata": {},
   "outputs": [],
   "source": [
    "df.drop([\"Latitude\",\"Longitude\",\"Publication.Date\",\"Airport.Code\",\"Airport.Name\"], axis=1 ,inplace=True)"
   ]
  },
  {
   "cell_type": "code",
   "execution_count": 80,
   "id": "f8d0e84a",
   "metadata": {},
   "outputs": [
    {
     "data": {
      "text/plain": [
       "Event.Id                   0.000000\n",
       "Investigation.Type         0.000000\n",
       "Accident.Number            0.000000\n",
       "Event.Date                 0.000000\n",
       "Location                   0.058500\n",
       "Country                    0.254250\n",
       "Injury.Severity            1.124999\n",
       "Aircraft.damage            3.593246\n",
       "Aircraft.Category          0.000000\n",
       "Registration.Number        1.481623\n",
       "Make                       0.070875\n",
       "Model                      0.103500\n",
       "Amateur.Built              0.114750\n",
       "Number.of.Engines          6.844491\n",
       "Engine.Type                7.961615\n",
       "Purpose.of.flight          6.965991\n",
       "Total.Fatal.Injuries      12.826109\n",
       "Total.Serious.Injuries    14.073732\n",
       "Total.Minor.Injuries      13.424608\n",
       "Total.Uninjured            6.650992\n",
       "Weather.Condition          5.053494\n",
       "Broad.phase.of.flight      0.000000\n",
       "Report.Status              7.178616\n",
       "dtype: float64"
      ]
     },
     "execution_count": 80,
     "metadata": {},
     "output_type": "execute_result"
    }
   ],
   "source": [
    "nan4_percent = (df.isna().sum())/ a[0]*100\n",
    "nan4_percent"
   ]
  },
  {
   "cell_type": "code",
   "execution_count": 81,
   "id": "3737a388",
   "metadata": {},
   "outputs": [],
   "source": [
    "#When it comes to this injuries lets just add zero  to the missing values\n",
    "df[[\"Total.Fatal.Injuries\",\"Total.Serious.Injuries\",\"Total.Minor.Injuries\", \"Total.Uninjured\"]]= df[[\"Total.Fatal.Injuries\",\"Total.Serious.Injuries\",\"Total.Minor.Injuries\", \"Total.Uninjured\"]].fillna(0)\n"
   ]
  },
  {
   "cell_type": "code",
   "execution_count": 82,
   "id": "14e651a9",
   "metadata": {},
   "outputs": [
    {
     "data": {
      "text/plain": [
       "Event.Id                  0.000000\n",
       "Investigation.Type        0.000000\n",
       "Accident.Number           0.000000\n",
       "Event.Date                0.000000\n",
       "Location                  0.058500\n",
       "Country                   0.254250\n",
       "Injury.Severity           1.124999\n",
       "Aircraft.damage           3.593246\n",
       "Aircraft.Category         0.000000\n",
       "Registration.Number       1.481623\n",
       "Make                      0.070875\n",
       "Model                     0.103500\n",
       "Amateur.Built             0.114750\n",
       "Number.of.Engines         6.844491\n",
       "Engine.Type               7.961615\n",
       "Purpose.of.flight         6.965991\n",
       "Total.Fatal.Injuries      0.000000\n",
       "Total.Serious.Injuries    0.000000\n",
       "Total.Minor.Injuries      0.000000\n",
       "Total.Uninjured           0.000000\n",
       "Weather.Condition         5.053494\n",
       "Broad.phase.of.flight     0.000000\n",
       "Report.Status             7.178616\n",
       "dtype: float64"
      ]
     },
     "execution_count": 82,
     "metadata": {},
     "output_type": "execute_result"
    }
   ],
   "source": [
    "nan5_percent = (df.isna().sum())/a[0]*100\n",
    "nan5_percent"
   ]
  },
  {
   "cell_type": "markdown",
   "id": "d47b5318",
   "metadata": {},
   "source": [
    "As you can see we are close to having a clean dataset in this case almost everything is below 10 percent i can drop some rows with missing values and not loose alot of data."
   ]
  },
  {
   "cell_type": "code",
   "execution_count": 83,
   "id": "cd1cce2e",
   "metadata": {},
   "outputs": [],
   "source": [
    "df = df.dropna() # basically this is used to  create a new dataframe without missing values"
   ]
  },
  {
   "cell_type": "code",
   "execution_count": 84,
   "id": "c6f1907a",
   "metadata": {},
   "outputs": [
    {
     "data": {
      "text/plain": [
       "Event.Id                  0\n",
       "Investigation.Type        0\n",
       "Accident.Number           0\n",
       "Event.Date                0\n",
       "Location                  0\n",
       "Country                   0\n",
       "Injury.Severity           0\n",
       "Aircraft.damage           0\n",
       "Aircraft.Category         0\n",
       "Registration.Number       0\n",
       "Make                      0\n",
       "Model                     0\n",
       "Amateur.Built             0\n",
       "Number.of.Engines         0\n",
       "Engine.Type               0\n",
       "Purpose.of.flight         0\n",
       "Total.Fatal.Injuries      0\n",
       "Total.Serious.Injuries    0\n",
       "Total.Minor.Injuries      0\n",
       "Total.Uninjured           0\n",
       "Weather.Condition         0\n",
       "Broad.phase.of.flight     0\n",
       "Report.Status             0\n",
       "dtype: int64"
      ]
     },
     "execution_count": 84,
     "metadata": {},
     "output_type": "execute_result"
    }
   ],
   "source": [
    "df.isna().sum()"
   ]
  },
  {
   "cell_type": "code",
   "execution_count": 85,
   "id": "35b0ba56",
   "metadata": {},
   "outputs": [
    {
     "data": {
      "text/plain": [
       "0"
      ]
     },
     "execution_count": 85,
     "metadata": {},
     "output_type": "execute_result"
    }
   ],
   "source": [
    "df.duplicated().sum()"
   ]
  },
  {
   "cell_type": "code",
   "execution_count": 86,
   "id": "9315ec65",
   "metadata": {},
   "outputs": [
    {
     "data": {
      "text/plain": [
       "(74743, 23)"
      ]
     },
     "execution_count": 86,
     "metadata": {},
     "output_type": "execute_result"
    }
   ],
   "source": [
    "df.shape"
   ]
  },
  {
   "cell_type": "markdown",
   "id": "16c1f1c6",
   "metadata": {},
   "source": [
    "As  you can see the dataset is cleaning ;no duplicates and no duplicates.Now lets proceed to  Data modelling"
   ]
  },
  {
   "cell_type": "markdown",
   "id": "4f2ecf68",
   "metadata": {},
   "source": [
    "**DATA MODELLING,ANYALYSIS AND VISUALIZATION**"
   ]
  },
  {
   "cell_type": "markdown",
   "id": "29dad76f",
   "metadata": {},
   "source": [
    "So folks in these case here , we already have some clean data now the remaining part is to try and gain insights and ask relevant business questions in accordance to the business problem "
   ]
  },
  {
   "cell_type": "markdown",
   "id": "4ac1b29e",
   "metadata": {},
   "source": [
    "Lets try and work with the following questions;"
   ]
  },
  {
   "cell_type": "markdown",
   "id": "c409f3d7",
   "metadata": {},
   "source": [
    "1. Which aircraft makes are most frequently involved in accidents?\n",
    "2. What levels of damage are sustained by different aircraft types?\n",
    "3. What are the most common purposes of flights involved in accidents?\n",
    "4. What are the fatality/injury distributions across aircraft makes and models?\n",
    "\n"
   ]
  },
  {
   "cell_type": "markdown",
   "id": "cc63355e",
   "metadata": {},
   "source": [
    "Lets try geting down with the **first question**"
   ]
  },
  {
   "cell_type": "code",
   "execution_count": 87,
   "id": "cdf8b69f",
   "metadata": {},
   "outputs": [
    {
     "data": {
      "text/plain": [
       "Text(0, 0.5, 'Number Of Aircraft')"
      ]
     },
     "execution_count": 87,
     "metadata": {},
     "output_type": "execute_result"
    },
    {
     "data": {
      "image/png": "[encoded data removed]",
      "text/plain": [
       "<Figure size 720x360 with 1 Axes>"
      ]
     },
     "metadata": {
      "needs_background": "light"
     },
     "output_type": "display_data"
    }
   ],
   "source": [
    "# Plot of the most common makes involved\n",
    "top_10_aircraft_make = df[\"Make\"].value_counts()[:10]\n",
    "\n",
    "\n",
    "fig, ax = plt.subplots(figsize = (10,5))\n",
    "\n",
    "ax.bar(top_10_aircraft_make.index, top_10_aircraft_make.values)\n",
    "ax.set_title(\"TOP 10 MOST ACCIDENT PRONE AIRCRAFT MAKES\")\n",
    "ax.set_xlabel(\"Aircraft Make\")\n",
    "ax.set_ylabel(\"Number Of Aircraft\")"
   ]
  },
  {
   "cell_type": "markdown",
   "id": "58108eed",
   "metadata": {},
   "source": [
    "This information visualized above its very good but if you try to take a closer look on this issue we can see that some Aircraft make are a bit redundant. A good example is the **Cessna** and **CESSNA**  and **Piper** and  **PIPER** so i think i will either make them lowercase or even uppercase"
   ]
  },
  {
   "cell_type": "code",
   "execution_count": 88,
   "id": "1f9c5291",
   "metadata": {},
   "outputs": [],
   "source": [
    "df.loc[:,'Make'] = df['Make'] .str.lower() #making all the Makes name lowercase(i have decided to work with lowercase)"
   ]
  },
  {
   "cell_type": "code",
   "execution_count": 89,
   "id": "1ed15eac",
   "metadata": {},
   "outputs": [
    {
     "data": {
      "image/png": "[encoded data removed]",
      "text/plain": [
       "<Figure size 720x432 with 1 Axes>"
      ]
     },
     "metadata": {
      "needs_background": "light"
     },
     "output_type": "display_data"
    }
   ],
   "source": [
    "top_10_aircraft_make = df[\"Make\"].value_counts()[:10].sort_values(ascending=True)\n",
    "\n",
    "\n",
    "fig, ax = plt.subplots(figsize = (10,6))\n",
    "\n",
    "ax.barh(top_10_aircraft_make.index, top_10_aircraft_make.values ) #My choice is horizontal bar graph \n",
    "ax.set_title(\"TOP 10 MOST ACCIDENT PRONE AIRCRAFT MAKES\")\n",
    "ax.set_xlabel(\"Aircraft Make\")\n",
    "ax.set_ylabel(\"Number Of Aircraft\");"
   ]
  },
  {
   "cell_type": "markdown",
   "id": "2c458233",
   "metadata": {},
   "source": [
    "So from this visualization here we can clearly see Cessna Make tops the list on being the most unstable aircraft and also has the most accidents."
   ]
  },
  {
   "cell_type": "markdown",
   "id": "d734da8d",
   "metadata": {},
   "source": [
    "Now lets go to the second question which is:What levels of damage are sustained by different aircraft types?\n",
    "Lets have a look And see if we can gain insights from it(We want to understand the durability of the planes)"
   ]
  },
  {
   "cell_type": "code",
   "execution_count": 90,
   "id": "a98d2e4b",
   "metadata": {},
   "outputs": [
    {
     "data": {
      "text/plain": [
       "Text(0, 0.5, 'Number of aircraft')"
      ]
     },
     "execution_count": 90,
     "metadata": {},
     "output_type": "execute_result"
    },
    {
     "data": {
      "image/png": "[encoded data removed]",
      "text/plain": [
       "<Figure size 720x432 with 1 Axes>"
      ]
     },
     "metadata": {
      "needs_background": "light"
     },
     "output_type": "display_data"
    }
   ],
   "source": [
    "#plot of the different types of damages airplanes suffer after an accident\n",
    "damage_level_counts = df[\"Aircraft.damage\"].value_counts()\n",
    "\n",
    "\n",
    "fig, ax = plt.subplots(figsize = (10,6))\n",
    "\n",
    "ax.bar(damage_level_counts.index, damage_level_counts.values )\n",
    "ax.set_title(\"LEVEL OF DAMAGE SUSTAINED BY AIRCRAFTS INVOLVED IN ACCIDENTS\")\n",
    "ax.set_xlabel(\"Damage level\")\n",
    "ax.set_ylabel(\"Number of aircraft\")"
   ]
  },
  {
   "cell_type": "markdown",
   "id": "c0427183",
   "metadata": {},
   "source": [
    "As you can see most of the aircrafts experiences a substantial damage."
   ]
  },
  {
   "cell_type": "code",
   "execution_count": 91,
   "id": "b10b8a6b",
   "metadata": {},
   "outputs": [
    {
     "data": {
      "image/png": "[encoded data removed]",
      "text/plain": [
       "<Figure size 720x432 with 1 Axes>"
      ]
     },
     "metadata": {
      "needs_background": "light"
     },
     "output_type": "display_data"
    }
   ],
   "source": [
    "plt.figure(figsize=(10,6))\n",
    "sns.boxplot(x=\"Aircraft.damage\", y=\"Total.Fatal.Injuries\", data=df)\n",
    "\n",
    "plt.title(\"Distribution of Fatal Injuries by Aircraft Damage Level\")\n",
    "plt.xlabel(\"Damage Level\")\n",
    "plt.ylabel(\"Number of Fatal Injuries\")\n",
    "plt.show()"
   ]
  },
  {
   "cell_type": "code",
   "execution_count": 92,
   "id": "4e80dd0f",
   "metadata": {},
   "outputs": [
    {
     "data": {
      "text/plain": [
       "Index(['Event.Id', 'Investigation.Type', 'Accident.Number', 'Event.Date',\n",
       "       'Location', 'Country', 'Injury.Severity', 'Aircraft.damage',\n",
       "       'Aircraft.Category', 'Registration.Number', 'Make', 'Model',\n",
       "       'Amateur.Built', 'Number.of.Engines', 'Engine.Type',\n",
       "       'Purpose.of.flight', 'Total.Fatal.Injuries', 'Total.Serious.Injuries',\n",
       "       'Total.Minor.Injuries', 'Total.Uninjured', 'Weather.Condition',\n",
       "       'Broad.phase.of.flight', 'Report.Status'],\n",
       "      dtype='object')"
      ]
     },
     "execution_count": 92,
     "metadata": {},
     "output_type": "execute_result"
    }
   ],
   "source": [
    "df.columns"
   ]
  },
  {
   "cell_type": "markdown",
   "id": "b1785214",
   "metadata": {},
   "source": [
    "Now lets investigate whether the build has any effect on the durability"
   ]
  },
  {
   "cell_type": "code",
   "execution_count": 93,
   "id": "6a27854f",
   "metadata": {},
   "outputs": [
    {
     "data": {
      "text/plain": [
       "No     66929\n",
       "Yes     7814\n",
       "Name: Amateur.Built, dtype: int64"
      ]
     },
     "execution_count": 93,
     "metadata": {},
     "output_type": "execute_result"
    }
   ],
   "source": [
    "df['Amateur.Built'].value_counts()"
   ]
  },
  {
   "cell_type": "code",
   "execution_count": 94,
   "id": "1967f384",
   "metadata": {},
   "outputs": [
    {
     "data": {
      "image/png": "[encoded data removed]",
      "text/plain": [
       "<Figure size 720x720 with 1 Axes>"
      ]
     },
     "metadata": {
      "needs_background": "light"
     },
     "output_type": "display_data"
    }
   ],
   "source": [
    "build_type = df.groupby(['Aircraft.damage','Amateur.Built']) .size().sort_values(ascending=True)\n",
    "ax = build_type.plot(kind=\"barh\", figsize=(10,10)) #this makes it horizontal\n",
    "ax.set_title(\"Damage level sustained by aircraft that are Amateur Built and those that are not Amateur Built\")\n",
    "ax.set_ylabel(\"Level of Damage, Amateur Built(Yes/No)\")\n",
    "ax.set_xlabel(\"Number of Aircraft\");"
   ]
  },
  {
   "cell_type": "markdown",
   "id": "bb78101d",
   "metadata": {},
   "source": [
    "Given the disproportionate numbers between amateur built and not amateur built aircrat in the dataset, It appears that aircraft that are amateur build sustain substantial damage or are destroyed."
   ]
  },
  {
   "cell_type": "markdown",
   "id": "4a20dba8",
   "metadata": {},
   "source": [
    "Now on to the final question: What are the most common purposes of flights involved in accidents?\n",
    "\n",
    "My company wants to venture into the commercial and private side of the aviation business. So it is important to know the risks associated with each purpose of a flight, if any."
   ]
  },
  {
   "cell_type": "code",
   "execution_count": 95,
   "id": "af6f0fad",
   "metadata": {},
   "outputs": [
    {
     "data": {
      "image/png": "[encoded data removed]",
      "text/plain": [
       "<Figure size 1080x1080 with 1 Axes>"
      ]
     },
     "metadata": {
      "needs_background": "light"
     },
     "output_type": "display_data"
    }
   ],
   "source": [
    "#plot of purpose of flight when accident/incident occured\n",
    "purpose_counts = df[\"Purpose.of.flight\"].value_counts()\n",
    "\n",
    "fig, ax = plt.subplots(figsize = (15,15))\n",
    "\n",
    "ax.bar(purpose_counts.index, purpose_counts.values )\n",
    "ax.set_title(\"PURPOSE OF FLIGHT WHEN ACCIDENT OCCURED\")\n",
    "ax.set_xlabel(\"Purpose of flight During Accident\")\n",
    "ax.set_ylabel(\"Number Of Aircraft\")\n",
    "ax.set_xticks(range(len(purpose_counts.index)))\n",
    "ax.set_xticklabels(purpose_counts.index,rotation=90);"
   ]
  },
  {
   "cell_type": "code",
   "execution_count": null,
   "id": "861b1a3c",
   "metadata": {},
   "outputs": [],
   "source": []
  }
 ],
 "metadata": {
  "kernelspec": {
   "display_name": "learn-env",
   "language": "python",
   "name": "python3"
  },
  "language_info": {
   "codemirror_mode": {
    "name": "ipython",
    "version": 3
   },
   "file_extension": ".py",
   "mimetype": "text/x-python",
   "name": "python",
   "nbconvert_exporter": "python",
   "pygments_lexer": "ipython3",
   "version": "3.8.5"
  }
 },
 "nbformat": 4,
 "nbformat_minor": 5
}
